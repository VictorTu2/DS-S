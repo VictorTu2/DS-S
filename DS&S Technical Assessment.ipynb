{
 "cells": [
  {
   "cell_type": "markdown",
   "id": "2b614f63-2fb5-4c99-9ace-3aa6f076af36",
   "metadata": {},
   "source": [
    "## DS&S Technical Assessment"
   ]
  },
  {
   "cell_type": "code",
   "execution_count": 1,
   "id": "e0cb942c-87aa-40a1-b471-309e7f750720",
   "metadata": {},
   "outputs": [],
   "source": [
    "#importing packages\n",
    "import pandas as pd \n",
    "import numpy as np"
   ]
  },
  {
   "cell_type": "code",
   "execution_count": 2,
   "id": "1216dab4-0e52-4afa-86a6-774cbf0812d1",
   "metadata": {},
   "outputs": [],
   "source": [
    "#access the csv file given \n",
    "df = pd.read_csv(\"shots_data.csv\")"
   ]
  },
  {
   "cell_type": "markdown",
   "id": "cd701216-d813-46e7-9150-33baedae519e",
   "metadata": {},
   "source": [
    "## df exploration "
   ]
  },
  {
   "cell_type": "code",
   "execution_count": 3,
   "id": "cb7ab817-ae63-4f7b-8927-5e1f5db9d3da",
   "metadata": {},
   "outputs": [
    {
     "data": {
      "text/html": [
       "<div>\n",
       "<style scoped>\n",
       "    .dataframe tbody tr th:only-of-type {\n",
       "        vertical-align: middle;\n",
       "    }\n",
       "\n",
       "    .dataframe tbody tr th {\n",
       "        vertical-align: top;\n",
       "    }\n",
       "\n",
       "    .dataframe thead th {\n",
       "        text-align: right;\n",
       "    }\n",
       "</style>\n",
       "<table border=\"1\" class=\"dataframe\">\n",
       "  <thead>\n",
       "    <tr style=\"text-align: right;\">\n",
       "      <th></th>\n",
       "      <th>team</th>\n",
       "      <th>x</th>\n",
       "      <th>y</th>\n",
       "      <th>fgmade</th>\n",
       "    </tr>\n",
       "  </thead>\n",
       "  <tbody>\n",
       "    <tr>\n",
       "      <th>0</th>\n",
       "      <td>Team A</td>\n",
       "      <td>-23.1</td>\n",
       "      <td>3.5</td>\n",
       "      <td>0</td>\n",
       "    </tr>\n",
       "    <tr>\n",
       "      <th>1</th>\n",
       "      <td>Team A</td>\n",
       "      <td>0.0</td>\n",
       "      <td>25.1</td>\n",
       "      <td>1</td>\n",
       "    </tr>\n",
       "    <tr>\n",
       "      <th>2</th>\n",
       "      <td>Team A</td>\n",
       "      <td>0.5</td>\n",
       "      <td>1.0</td>\n",
       "      <td>1</td>\n",
       "    </tr>\n",
       "    <tr>\n",
       "      <th>3</th>\n",
       "      <td>Team A</td>\n",
       "      <td>-5.6</td>\n",
       "      <td>5.2</td>\n",
       "      <td>0</td>\n",
       "    </tr>\n",
       "    <tr>\n",
       "      <th>4</th>\n",
       "      <td>Team A</td>\n",
       "      <td>4.0</td>\n",
       "      <td>14.5</td>\n",
       "      <td>1</td>\n",
       "    </tr>\n",
       "  </tbody>\n",
       "</table>\n",
       "</div>"
      ],
      "text/plain": [
       "     team     x     y  fgmade\n",
       "0  Team A -23.1   3.5       0\n",
       "1  Team A   0.0  25.1       1\n",
       "2  Team A   0.5   1.0       1\n",
       "3  Team A  -5.6   5.2       0\n",
       "4  Team A   4.0  14.5       1"
      ]
     },
     "execution_count": 3,
     "metadata": {},
     "output_type": "execute_result"
    }
   ],
   "source": [
    "#let's take a look at the data\n",
    "df.head()"
   ]
  },
  {
   "cell_type": "code",
   "execution_count": 4,
   "id": "72709986-cc8c-4d22-97a3-13e64c1b2694",
   "metadata": {},
   "outputs": [
    {
     "data": {
      "text/plain": [
       "team       object\n",
       "x         float64\n",
       "y         float64\n",
       "fgmade      int64\n",
       "dtype: object"
      ]
     },
     "execution_count": 4,
     "metadata": {},
     "output_type": "execute_result"
    }
   ],
   "source": [
    "#checking the data types of each column \n",
    "df.dtypes"
   ]
  },
  {
   "cell_type": "code",
   "execution_count": 5,
   "id": "5d926306-704d-4477-aa64-afcc90f834cb",
   "metadata": {},
   "outputs": [
    {
     "data": {
      "text/html": [
       "<div>\n",
       "<style scoped>\n",
       "    .dataframe tbody tr th:only-of-type {\n",
       "        vertical-align: middle;\n",
       "    }\n",
       "\n",
       "    .dataframe tbody tr th {\n",
       "        vertical-align: top;\n",
       "    }\n",
       "\n",
       "    .dataframe thead th {\n",
       "        text-align: right;\n",
       "    }\n",
       "</style>\n",
       "<table border=\"1\" class=\"dataframe\">\n",
       "  <thead>\n",
       "    <tr style=\"text-align: right;\">\n",
       "      <th></th>\n",
       "      <th>x</th>\n",
       "      <th>y</th>\n",
       "      <th>fgmade</th>\n",
       "    </tr>\n",
       "  </thead>\n",
       "  <tbody>\n",
       "    <tr>\n",
       "      <th>count</th>\n",
       "      <td>560.000000</td>\n",
       "      <td>560.000000</td>\n",
       "      <td>560.000000</td>\n",
       "    </tr>\n",
       "    <tr>\n",
       "      <th>mean</th>\n",
       "      <td>1.049821</td>\n",
       "      <td>11.156071</td>\n",
       "      <td>0.392857</td>\n",
       "    </tr>\n",
       "    <tr>\n",
       "      <th>std</th>\n",
       "      <td>11.074739</td>\n",
       "      <td>9.487093</td>\n",
       "      <td>0.488822</td>\n",
       "    </tr>\n",
       "    <tr>\n",
       "      <th>min</th>\n",
       "      <td>-23.600000</td>\n",
       "      <td>-1.500000</td>\n",
       "      <td>0.000000</td>\n",
       "    </tr>\n",
       "    <tr>\n",
       "      <th>25%</th>\n",
       "      <td>-4.250000</td>\n",
       "      <td>2.000000</td>\n",
       "      <td>0.000000</td>\n",
       "    </tr>\n",
       "    <tr>\n",
       "      <th>50%</th>\n",
       "      <td>0.600000</td>\n",
       "      <td>8.500000</td>\n",
       "      <td>0.000000</td>\n",
       "    </tr>\n",
       "    <tr>\n",
       "      <th>75%</th>\n",
       "      <td>7.475000</td>\n",
       "      <td>20.725000</td>\n",
       "      <td>1.000000</td>\n",
       "    </tr>\n",
       "    <tr>\n",
       "      <th>max</th>\n",
       "      <td>23.800000</td>\n",
       "      <td>29.700000</td>\n",
       "      <td>1.000000</td>\n",
       "    </tr>\n",
       "  </tbody>\n",
       "</table>\n",
       "</div>"
      ],
      "text/plain": [
       "                x           y      fgmade\n",
       "count  560.000000  560.000000  560.000000\n",
       "mean     1.049821   11.156071    0.392857\n",
       "std     11.074739    9.487093    0.488822\n",
       "min    -23.600000   -1.500000    0.000000\n",
       "25%     -4.250000    2.000000    0.000000\n",
       "50%      0.600000    8.500000    0.000000\n",
       "75%      7.475000   20.725000    1.000000\n",
       "max     23.800000   29.700000    1.000000"
      ]
     },
     "execution_count": 5,
     "metadata": {},
     "output_type": "execute_result"
    }
   ],
   "source": [
    "#understanding the data I am given\n",
    "df.describe()"
   ]
  },
  {
   "cell_type": "markdown",
   "id": "e845e1cd-309b-47c2-b32e-b192fd433b78",
   "metadata": {},
   "source": [
    "## df analysis functions"
   ]
  },
  {
   "cell_type": "code",
   "execution_count": 6,
   "id": "36489620-fb90-40e7-b0f8-a2045396d3a7",
   "metadata": {},
   "outputs": [],
   "source": [
    "#determining shot zones \n",
    "df[\"Shot Zone\"] = \"NA\"\n",
    "\n",
    "conditions = [\n",
    "    (df[\"y\"] <= 7.8) & (df[\"x\"] > 22.0), #C3 RS\n",
    "    (df[\"y\"] <= 7.8) & (df[\"x\"] < -22.0), #C3 LS\n",
    "    (df[\"y\"] <= 7.8) & (df[\"x\"].between(-22, 22, inclusive = False)), #2PT where y <= 7.8\n",
    "    (df[\"y\"].between(7.8, 23.75, inclusive = False)) & (df[\"x\"].between(0, 23.75, inclusive = False)), #2PT RS of arc\n",
    "    (df[\"y\"].between(7.8, 23.75, inclusive = False)) & (df[\"x\"].between(-23.75, 0, inclusive = False)), #2PT LS of arc\n",
    "    (df[\"Shot Zone\"] == \"NA\"), #NC3: the rest \n",
    "]\n",
    "\n",
    "values = [\"C3\",\"C3\",\"2PT\",\"2PT\",\"2PT\",\"NC3\"]\n",
    "\n",
    "df[\"Shot Zone\"] = np.select(conditions, values)"
   ]
  },
  {
   "cell_type": "code",
   "execution_count": null,
   "id": "b6f9b40c-0507-4b19-88b9-e8dacc752728",
   "metadata": {},
   "outputs": [],
   "source": [
    "#LOGIC: find the shots for corner 3 first because they are easiest.\n",
    "#Next, find the 2-point shots. This is more difficult becuase of the arc,\n",
    "#so first I found the 2-point shots that were y <= 7.8, then I found the\n",
    "#2-point shots that were inside the right side of the arc and the left side of the arc.\n",
    "#Now, since I have 2/3 categories, the rest of the shots are NC3s. "
   ]
  },
  {
   "cell_type": "code",
   "execution_count": 7,
   "id": "abe9881c-2e7c-4c12-95b7-3f1ef6e25c23",
   "metadata": {},
   "outputs": [],
   "source": [
    "#split df for teamA and teamB\n",
    "teamA = df[df.team.str.contains(\"Team A\")]\n",
    "teamB = df[df.team.str.contains(\"Team B\")]"
   ]
  },
  {
   "cell_type": "code",
   "execution_count": 23,
   "id": "37cb6e4b-6de7-40d3-8798-37e5f7d0431c",
   "metadata": {},
   "outputs": [],
   "source": [
    "#calculating shot distribution for each zone\n",
    "def analysis(df):\n",
    "\n",
    "    #total attempts of the team\n",
    "    fga = len(df)\n",
    "    \n",
    "    #total attempts at 2PT\n",
    "    two_pt = df[df[\"Shot Zone\"] == \"2PT\"] #data for all 2PT\n",
    "    twopt_attempts = len(two_pt) \n",
    "    \n",
    "    #total attempts at NC3\n",
    "    nc3 = df[df[\"Shot Zone\"] == \"NC3\"] #data for all nc3\n",
    "    nc3_attempts = len(nc3) \n",
    "    \n",
    "    #total attempts at C3\n",
    "    c3 = df[df[\"Shot Zone\"] == \"C3\"] #data for all c3\n",
    "    c3_attempts = len(c3) \n",
    "    \n",
    "    #shot distribution\n",
    "    twopt_percentage = round(twopt_attempts/fga*100,2)\n",
    "    \n",
    "    nc3_percentage = round(nc3_attempts/fga*100,2)\n",
    "    \n",
    "    c3_percentage = round(c3_attempts/fga*100,2)\n",
    "       \n",
    "    print(\"Shot Distribution:\") #display shot distribution of the team\n",
    "    print(\"2PT: \" + str(twopt_percentage) + \"%\")\n",
    "    print(\"NC3: \" + str(nc3_percentage) + \"%\")\n",
    "    print(\"C3: \" + str(c3_percentage) + \"%\")\n",
    "    \n",
    "    #FGM\n",
    "    fgm = len(df[df[\"fgmade\"] == 1])\n",
    "    \n",
    "    #NC3PM\n",
    "    nc3pm = len(nc3[nc3[\"fgmade\"] == 1])\n",
    "    \n",
    "    #C3PM\n",
    "    c3pm = len(c3[c3[\"fgmade\"] == 1])\n",
    "     \n",
    "    #eFG of 2PT\n",
    "    eFG_2PT = round((fgm/fga)*100,2)\n",
    "    \n",
    "    #eFG of NC3PM\n",
    "    eFG_NC3PT = round(((fgm + (0.5*nc3pm))/fga)*100,2)\n",
    "    \n",
    "    #eFG of C3PM\n",
    "    eFG_C3PT = round(((fgm + (0.5*c3pm))/fga)*100,2)\n",
    "    \n",
    "    \n",
    "    print(\"eFG%:\")\n",
    "    print(\"2PT: \" + str(eFG_2PT) + \"%\")\n",
    "    print(\"NC3: \" + str(eFG_NC3PT) + \"%\")\n",
    "    print(\"C3: \" + str(eFG_C3PT) + \"%\")"
   ]
  },
  {
   "cell_type": "markdown",
   "id": "6681e3a6-61c8-43f8-8b94-a8c0969c3800",
   "metadata": {},
   "source": [
    "## deliverables"
   ]
  },
  {
   "cell_type": "code",
   "execution_count": 24,
   "id": "de2346a9-e100-49ac-a004-91aac0136405",
   "metadata": {},
   "outputs": [
    {
     "name": "stdout",
     "output_type": "stream",
     "text": [
      "Team A Results\n",
      "Shot Distribution:\n",
      "2PT: 77.86%\n",
      "NC3: 15.0%\n",
      "C3: 7.14%\n",
      "eFG%:\n",
      "2PT: 37.5%\n",
      "NC3: 40.18%\n",
      "C3: 38.93%\n"
     ]
    }
   ],
   "source": [
    "print(\"Team A Results\")\n",
    "analysis(teamA)"
   ]
  },
  {
   "cell_type": "code",
   "execution_count": 25,
   "id": "b67c6b73-d07f-441c-bd8e-308c09da92f9",
   "metadata": {},
   "outputs": [
    {
     "name": "stdout",
     "output_type": "stream",
     "text": [
      "Team B Results\n",
      "Shot Distribution:\n",
      "2PT: 78.93%\n",
      "NC3: 13.57%\n",
      "C3: 7.5%\n",
      "eFG%:\n",
      "2PT: 41.07%\n",
      "NC3: 43.39%\n",
      "C3: 41.96%\n"
     ]
    }
   ],
   "source": [
    "print(\"Team B Results\")\n",
    "analysis(teamB)"
   ]
  },
  {
   "cell_type": "code",
   "execution_count": null,
   "id": "3bc77fd0-4c0b-406b-96d4-194fdb6b127e",
   "metadata": {},
   "outputs": [],
   "source": []
  }
 ],
 "metadata": {
  "kernelspec": {
   "display_name": "Python 3",
   "language": "python",
   "name": "python3"
  },
  "language_info": {
   "codemirror_mode": {
    "name": "ipython",
    "version": 3
   },
   "file_extension": ".py",
   "mimetype": "text/x-python",
   "name": "python",
   "nbconvert_exporter": "python",
   "pygments_lexer": "ipython3",
   "version": "3.8.8"
  }
 },
 "nbformat": 4,
 "nbformat_minor": 5
}
